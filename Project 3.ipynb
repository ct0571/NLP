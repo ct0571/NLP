{
 "cells": [
  {
   "cell_type": "code",
   "execution_count": null,
   "id": "87affcc8",
   "metadata": {},
   "outputs": [],
   "source": [
    "#importing required packages\n",
    "import pandas as pd\n",
    "import torch\n",
    "import torch.nn as nn\n",
    "import torch.optim as optim\n",
    "from torch.utils.data import Dataset, DataLoader\n",
    "from torch.nn.utils.rnn import pad_sequence\n",
    "from sklearn.model_selection import train_test_split\n",
    "from sklearn.metrics import f1_score, accuracy_score, confusion_matrix\n",
    "from gensim.models import Word2Vec\n"
   ]
  },
  {
   "cell_type": "code",
   "execution_count": 165,
   "id": "a52429bc",
   "metadata": {},
   "outputs": [],
   "source": [
    "# Loading the twitter data and labels\n",
    "train_features = pd.read_csv('/Users/chathurya/Downloads/Chathurya/datasets/sentiment/train_text.txt', \n",
    "                             sep='\\t', header=None, names=['text'])\n",
    "train_labels = pd.read_csv('/Users/chathurya/Downloads/Chathurya/datasets/sentiment/train_labels.txt', \n",
    "                           sep='\\t', header=None, names=['label'])\n",
    "train_data = pd.concat([train_features, train_labels], axis=1)\n",
    "\n",
    "train_data = train_data[train_data['text'].apply(lambda x: type(x) == str)]\n",
    "\n",
    "# Extracting the features and labels\n",
    "train_features = train_data.drop('label', axis=1).values\n",
    "train_labels = train_data['label'].values\n",
    "\n",
    "# Splitting the data and labels into train and test sets\n",
    "train_data, test_data, train_labels, test_labels = train_test_split(train_features, train_labels, \n",
    "                                                                    test_size=0.3, random_state = 25)\n"
   ]
  },
  {
   "cell_type": "code",
   "execution_count": 167,
   "id": "d3eeda15",
   "metadata": {},
   "outputs": [],
   "source": [
    "#Tokenize tweets and create word2vec embeddings\n",
    "tweets = data['text'].apply(lambda x: x.split())\n",
    "model = Word2Vec(tweets, min_count=1)\n",
    "word_vectors = model.wv\n"
   ]
  },
  {
   "cell_type": "code",
   "execution_count": 168,
   "id": "84cccd19",
   "metadata": {},
   "outputs": [],
   "source": [
    "# Define the model architecture\n",
    "import torch.nn as nn\n",
    "\n",
    "class TweetClassifier(nn.Module):\n",
    "    def __init__(self, vocab_size, embedding_dim, output_dim):\n",
    "        super(TweetClassifier, self).__init__()\n",
    "\n",
    "        self.embedding = nn.Embedding(vocab_size, embedding_dim)\n",
    "        self.fc = nn.Linear(embedding_dim, output_dim)\n",
    "        self.relu = nn.ReLU()\n",
    "        self.softmax = nn.Softmax(dim=1)\n",
    "\n",
    "    def forward(self, x):\n",
    "        embedded = self.embedding(x)\n",
    "        embedded = embedded.mean(dim=1)\n",
    "        log = self.fc(embedded)\n",
    "        log = self.relu(log)\n",
    "        log = self.softmax(log)\n",
    "        \n",
    "        return log"
   ]
  },
  {
   "cell_type": "code",
   "execution_count": 169,
   "id": "cbcbccb2",
   "metadata": {},
   "outputs": [],
   "source": [
    "#collecting unique words from the dataset\n",
    "uniq_words = set()\n",
    "for tweet in train_data:\n",
    "    words = tweet[0].split()\n",
    "    uniq_words.update(words)\n",
    "    \n",
    "#creating a vocabulary to index mapping\n",
    "vocab = list(uniq_words)\n",
    "word_to_idx = {word: idx for idx, word in enumerate(vocab)}"
   ]
  },
  {
   "cell_type": "code",
   "execution_count": 170,
   "id": "add20212",
   "metadata": {},
   "outputs": [],
   "source": [
    "train_ind = []\n",
    "for tweet in train_data:\n",
    "    if tweet[0]:\n",
    "        words = tweet[0].split()\n",
    "        indices = [word_to_idx[word] if word in word_to_idx else 0 for word in words]\n",
    "        train_ind.append(indices)\n",
    "\n",
    "test_ind = []\n",
    "for tweet in test_data:\n",
    "    if tweet[0]:\n",
    "        words = tweet[0].split()\n",
    "        indices = [word_to_idx[word] if word in word_to_idx else 0 for word in words]\n",
    "        test_ind.append(indices)\n",
    "\n",
    "\n"
   ]
  },
  {
   "cell_type": "code",
   "execution_count": 171,
   "id": "5b775e19",
   "metadata": {},
   "outputs": [],
   "source": [
    "#Create a PyTorch Dataset class\n",
    "class TweetDataset(Dataset):\n",
    "    def __init__(self, X, y):\n",
    "        self.X = X\n",
    "        self.y = y\n",
    "        \n",
    "\n",
    "    def __len__(self):\n",
    "        return len(self.X)\n",
    "\n",
    "    def __getitem__(self, idx):\n",
    "        tweet = self.X[idx]\n",
    "        label = self.y[idx]\n",
    "        return torch.tensor(tweet), torch.tensor(label)\n"
   ]
  },
  {
   "cell_type": "code",
   "execution_count": 172,
   "id": "fd04d360",
   "metadata": {},
   "outputs": [],
   "source": [
    "# Create a PyTorch DataLoader class\n",
    "from torch.nn.utils.rnn import pad_sequence\n",
    "\n",
    "#pad the sequence within a batch\n",
    "\n",
    "def collate_fn(batch):\n",
    "    inputs, labels = zip(*batch)\n",
    "    padded_inputs = pad_sequence(inputs, batch_first=True)\n",
    "    return padded_inputs, torch.stack(labels)"
   ]
  },
  {
   "cell_type": "code",
   "execution_count": 173,
   "id": "09135fba",
   "metadata": {},
   "outputs": [],
   "source": [
    "from torch.utils.data import Dataset, DataLoader\n",
    "\n",
    "batch_size = 32\n",
    "train_dataset = TweetDataset(train_ind, train_labels)\n",
    "train_loader = DataLoader(train_dataset, batch_size=batch_size, shuffle=True, collate_fn=collate_fn)\n",
    "test_dataset = TweetDataset(test_ind, test_labels)\n",
    "test_loader = DataLoader(test_dataset, batch_size=batch_size, shuffle=False, collate_fn=collate_fn)"
   ]
  },
  {
   "cell_type": "code",
   "execution_count": 174,
   "id": "1b40bb20",
   "metadata": {},
   "outputs": [],
   "source": [
    "#Initializing the sentiment classifier\n",
    "\n",
    "# Define the embedding layer\n",
    "embedding_dim = 100\n",
    "vocab_size = len(vocab)\n",
    "embedding = nn.Embedding(vocab_size, embedding_dim)\n"
   ]
  },
  {
   "cell_type": "code",
   "execution_count": 175,
   "id": "4f80ed7f",
   "metadata": {},
   "outputs": [],
   "source": [
    "# Define the model, loss function, and optimizer\n",
    "model = TweetClassifier(vocab_size, embedding_dim=embedding_dim, output_dim=3)\n",
    "criterion = nn.CrossEntropyLoss()\n",
    "optimizer = optim.Adam(model.parameters(), lr=0.001)"
   ]
  },
  {
   "cell_type": "code",
   "execution_count": 176,
   "id": "4aad42af",
   "metadata": {},
   "outputs": [],
   "source": [
    "# Train the model\n",
    "criterion = nn.CrossEntropyLoss()\n",
    "num_epochs = 50\n",
    "for epoch in range(num_epochs):\n",
    "    for tweets, labels in train_loader:\n",
    "        labels = labels.unsqueeze(1)\n",
    "        #Forward pass\n",
    "        outputs = model(tweets)\n",
    "        \n",
    "        #Computing the loss\n",
    "        loss = criterion(outputs, labels.squeeze(1))\n",
    "        \n",
    "        #Backward pass and optimization\n",
    "        optimizer.zero_grad()\n",
    "        loss.backward()\n",
    "        optimizer.step()"
   ]
  },
  {
   "cell_type": "code",
   "execution_count": 180,
   "id": "108ad41d",
   "metadata": {},
   "outputs": [
    {
     "name": "stdout",
     "output_type": "stream",
     "text": [
      "Test accuracy: 37.45%\n",
      "Accuracy of the network on the test tweets: 37 %\n",
      "Confusion Matrix: [[ 309  826  614]\n",
      " [ 868 2319 1676]\n",
      " [ 803 2038 1459]]\n"
     ]
    }
   ],
   "source": [
    "#Evaluating the model on the test dataset\n",
    "model.eval()\n",
    "predict = []\n",
    "true_labels = []\n",
    "correct = 0\n",
    "total = 0\n",
    "\n",
    "with torch.no_grad():\n",
    "    for tweets, labels in test_loader:\n",
    "        #Forward Pass\n",
    "        outputs = model(tweets)\n",
    "        #Computing predictions\n",
    "        _, predicted = torch.max(outputs, dim=1)\n",
    "         \n",
    "        total += labels.size(0)\n",
    "        correct += (predicted == labels).sum().item()\n",
    "        #collect predicted and t labels\n",
    "        predict.extend(predicted.tolist())\n",
    "        true_labels.extend(labels.tolist())\n",
    "    print(f\"Test accuracy: {100 * correct / total:.2f}%\")\n",
    "    print('Accuracy of the network on the test tweets: %d %%' % (100 * correct / total))\n",
    "    #Generating the confusion matrix\n",
    "    matrix = confusion_matrix(true_labels, predict)\n",
    "    print('Confusion Matrix:', matrix)"
   ]
  },
  {
   "cell_type": "code",
   "execution_count": 181,
   "id": "5d2479ca",
   "metadata": {},
   "outputs": [
    {
     "name": "stdout",
     "output_type": "stream",
     "text": [
      "Classification Report:\n",
      "              precision    recall  f1-score   support\n",
      "\n",
      "           0       0.16      0.18      0.17      1749\n",
      "           1       0.45      0.48      0.46      4863\n",
      "           2       0.39      0.34      0.36      4300\n",
      "\n",
      "    accuracy                           0.37     10912\n",
      "   macro avg       0.33      0.33      0.33     10912\n",
      "weighted avg       0.38      0.37      0.38     10912\n",
      "\n"
     ]
    }
   ],
   "source": [
    "# Comparison of model performances\n",
    "from sklearn.metrics import classification_report\n",
    "report = classification_report(true_labels, predict)\n",
    "print(\"Classification Report:\")\n",
    "print(report)"
   ]
  }
 ],
 "metadata": {
  "kernelspec": {
   "display_name": "Python 3 (ipykernel)",
   "language": "python",
   "name": "python3"
  },
  "language_info": {
   "codemirror_mode": {
    "name": "ipython",
    "version": 3
   },
   "file_extension": ".py",
   "mimetype": "text/x-python",
   "name": "python",
   "nbconvert_exporter": "python",
   "pygments_lexer": "ipython3",
   "version": "3.10.9"
  }
 },
 "nbformat": 4,
 "nbformat_minor": 5
}
